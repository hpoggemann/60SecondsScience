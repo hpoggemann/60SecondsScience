{
 "cells": [
  {
   "cell_type": "markdown",
   "id": "3a22ca44-89f9-4d0a-95bd-f73805999b82",
   "metadata": {},
   "source": [
    "# Die Physik dahinter\n",
    "\n",
    "Platzhalter\n",
    "\n",
    "## Streuung\n",
    "\n",
    "Platzhalter\n"
   ]
  }
 ],
 "metadata": {
  "kernelspec": {
   "display_name": "Python 3 (ipykernel)",
   "language": "python",
   "name": "python3"
  },
  "language_info": {
   "codemirror_mode": {
    "name": "ipython",
    "version": 3
   },
   "file_extension": ".py",
   "mimetype": "text/x-python",
   "name": "python",
   "nbconvert_exporter": "python",
   "pygments_lexer": "ipython3",
   "version": "3.9.7"
  }
 },
 "nbformat": 4,
 "nbformat_minor": 5
}
