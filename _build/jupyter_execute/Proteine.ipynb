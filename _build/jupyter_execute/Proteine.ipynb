{
 "cells": [
  {
   "cell_type": "markdown",
   "id": "c3e2f3d1-d9d3-494d-879f-07cb6109de31",
   "metadata": {},
   "source": [
    "# Proteine\n",
    "\n",
    "Proteine sind die Grundbausteine des Lebens und weit mehr als nur pure Supplements, um den Muskelaufbau zu verbessern. \n",
    "\n",
    "An sich sind Proteine leblose Biomoleküle, die aus ein paar 100 bis tausenden von Atomen bestehen, doch wenn sie richtig zusammenarbeiten, wird daraus ein faszinierender lebender Organismus. Zusammen mit den Nukleinsäuren, den Zuckern und den Lipiden formen Proteine komplexe Systeme, die schlussendlich unsere Zellen bilden. \n",
    "\n",
    "Proteine werden aus kleineren Einheiten, den Aminosäuren, zusammengesetzt. Das kann man sich ein bisschen wie Lego Steine vorstellen, die in unterschiedlicher Reihenfolge zusammengesetzt werden.\n",
    "Bisher wissen wir von 23 verschiedenen Bausteinen, die in Proteinen vorkommen. Ein Protein besteht aus etwa 100 bis 200 Aminosäuren.\n",
    "Die Kombination und Reihenfolge der Aminosäuren bestimmt die Struktur des Proteins. Denn Proteine liegen in ihrem nativen Zustand nicht als lange Kette von Aminosäuren vor, sondern falten sich zu einer komplexen dreidimensionalen Struktur. Diese Struktur bestimmt letztendlich auch die Funktion des Proteins.\n",
    "So ist durch die Abfolge der Aminosäuren in einem Protein genau festgelegt, wie es aussehen und welche Funktion es haben wird.\n",
    "Grundsätzlich sind Proteine so etwas wie die Hauptakteure in unseren Zellen, die den gesamten Organismus am Laufen halten. "
   ]
  },
  {
   "cell_type": "code",
   "execution_count": 1,
   "id": "cbe69ecf-4159-4e20-ae40-49a896786306",
   "metadata": {
    "jupyter": {
     "source_hidden": true
    },
    "tags": []
   },
   "outputs": [
    {
     "data": {
      "application/3dmoljs_load.v0": "<div id=\"3dmolviewer_17081919574796035\"  style=\"position: relative; width: 640px; height: 480px;\">\n        <p id=\"3dmolwarning_17081919574796035\" style=\"background-color:#ffcccc;color:black\">You appear to be running in JupyterLab (or JavaScript failed to load for some other reason).  You need to install the 3dmol extension: <br>\n        <tt>jupyter labextension install jupyterlab_3dmol</tt></p>\n        </div>\n<script>\n\nvar loadScriptAsync = function(uri){\n  return new Promise((resolve, reject) => {\n    //this is to ignore the existence of requirejs amd\n    var savedexports, savedmodule;\n    if (typeof exports !== 'undefined') savedexports = exports;\n    else exports = {}\n    if (typeof module !== 'undefined') savedmodule = module;\n    else module = {}\n\n    var tag = document.createElement('script');\n    tag.src = uri;\n    tag.async = true;\n    tag.onload = () => {\n        exports = savedexports;\n        module = savedmodule;\n        resolve();\n    };\n  var firstScriptTag = document.getElementsByTagName('script')[0];\n  firstScriptTag.parentNode.insertBefore(tag, firstScriptTag);\n});\n};\n\nif(typeof $3Dmolpromise === 'undefined') {\n$3Dmolpromise = null;\n  $3Dmolpromise = loadScriptAsync('https://cdnjs.cloudflare.com/ajax/libs/3Dmol/2.0.4/3Dmol-min.js');\n}\n\nvar viewer_17081919574796035 = null;\nvar warn = document.getElementById(\"3dmolwarning_17081919574796035\");\nif(warn) {\n    warn.parentNode.removeChild(warn);\n}\n$3Dmolpromise.then(function() {\nviewer_17081919574796035 = $3Dmol.createViewer(document.getElementById(\"3dmolviewer_17081919574796035\"),{backgroundColor:\"white\"});\n$3Dmol.download(\"mmtf:1ycr\", viewer_17081919574796035, {}, function() {\nviewer_17081919574796035.zoomTo();\n\tviewer_17081919574796035.setStyle({\"cartoon\": {\"color\": \"spectrum\"}});\nviewer_17081919574796035.render();\n})\n});\n</script>",
      "text/html": [
       "<div id=\"3dmolviewer_17081919574796035\"  style=\"position: relative; width: 640px; height: 480px;\">\n",
       "        <p id=\"3dmolwarning_17081919574796035\" style=\"background-color:#ffcccc;color:black\">You appear to be running in JupyterLab (or JavaScript failed to load for some other reason).  You need to install the 3dmol extension: <br>\n",
       "        <tt>jupyter labextension install jupyterlab_3dmol</tt></p>\n",
       "        </div>\n",
       "<script>\n",
       "\n",
       "var loadScriptAsync = function(uri){\n",
       "  return new Promise((resolve, reject) => {\n",
       "    //this is to ignore the existence of requirejs amd\n",
       "    var savedexports, savedmodule;\n",
       "    if (typeof exports !== 'undefined') savedexports = exports;\n",
       "    else exports = {}\n",
       "    if (typeof module !== 'undefined') savedmodule = module;\n",
       "    else module = {}\n",
       "\n",
       "    var tag = document.createElement('script');\n",
       "    tag.src = uri;\n",
       "    tag.async = true;\n",
       "    tag.onload = () => {\n",
       "        exports = savedexports;\n",
       "        module = savedmodule;\n",
       "        resolve();\n",
       "    };\n",
       "  var firstScriptTag = document.getElementsByTagName('script')[0];\n",
       "  firstScriptTag.parentNode.insertBefore(tag, firstScriptTag);\n",
       "});\n",
       "};\n",
       "\n",
       "if(typeof $3Dmolpromise === 'undefined') {\n",
       "$3Dmolpromise = null;\n",
       "  $3Dmolpromise = loadScriptAsync('https://cdnjs.cloudflare.com/ajax/libs/3Dmol/2.0.4/3Dmol-min.js');\n",
       "}\n",
       "\n",
       "var viewer_17081919574796035 = null;\n",
       "var warn = document.getElementById(\"3dmolwarning_17081919574796035\");\n",
       "if(warn) {\n",
       "    warn.parentNode.removeChild(warn);\n",
       "}\n",
       "$3Dmolpromise.then(function() {\n",
       "viewer_17081919574796035 = $3Dmol.createViewer(document.getElementById(\"3dmolviewer_17081919574796035\"),{backgroundColor:\"white\"});\n",
       "$3Dmol.download(\"mmtf:1ycr\", viewer_17081919574796035, {}, function() {\n",
       "viewer_17081919574796035.zoomTo();\n",
       "\tviewer_17081919574796035.setStyle({\"cartoon\": {\"color\": \"spectrum\"}});\n",
       "viewer_17081919574796035.render();\n",
       "})\n",
       "});\n",
       "</script>"
      ]
     },
     "metadata": {},
     "output_type": "display_data"
    },
    {
     "data": {
      "text/plain": [
       "<py3Dmol.view at 0x7f64c064ddc0>"
      ]
     },
     "execution_count": 1,
     "metadata": {},
     "output_type": "execute_result"
    }
   ],
   "source": [
    "import py3Dmol\n",
    "p = py3Dmol.view(query='mmtf:1ycr')\n",
    "p.setStyle({'cartoon': {'color':'spectrum'}})\n",
    "p"
   ]
  },
  {
   "cell_type": "markdown",
   "id": "f18176a8-273a-4073-b4bc-41f54800f464",
   "metadata": {},
   "source": [
    "## Besonders faszinierende Proteine\n",
    "\n",
    "Platzhalter\n",
    "\n",
    "## Proteinstruktur\n",
    "\n",
    "Platzhalter\n",
    "\n",
    "\n",
    "## Proteinstrukturaufklärung\n",
    "\n",
    "Platzhalter"
   ]
  }
 ],
 "metadata": {
  "kernelspec": {
   "display_name": "Python 3 (ipykernel)",
   "language": "python",
   "name": "python3"
  },
  "language_info": {
   "codemirror_mode": {
    "name": "ipython",
    "version": 3
   },
   "file_extension": ".py",
   "mimetype": "text/x-python",
   "name": "python",
   "nbconvert_exporter": "python",
   "pygments_lexer": "ipython3",
   "version": "3.8.10"
  }
 },
 "nbformat": 4,
 "nbformat_minor": 5
}